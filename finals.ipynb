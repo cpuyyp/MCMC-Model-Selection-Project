{
 "cells": [
  {
   "cell_type": "code",
   "execution_count": 102,
   "metadata": {},
   "outputs": [],
   "source": [
    "import numpy as np\n",
    "import matplotlib.pyplot as plt\n",
    "import scipy\n",
    "import scipy.stats\n",
    "import time"
   ]
  },
  {
   "cell_type": "code",
   "execution_count": 2,
   "metadata": {},
   "outputs": [],
   "source": [
    "def PostF(y,X,b,sig0,mub,sigp):\n",
    "    m = len(b)\n",
    "    E = (np.linalg.norm(y - X.dot(b))**2)/(2*sig0*sig0) + (np.linalg.norm(b-mub)**2)/(2*sigp*sigp)\n",
    "    E = E + 0.5*m*np.log(2*np.pi*sigp*sigp);\n",
    "    return E"
   ]
  },
  {
   "cell_type": "code",
   "execution_count": 57,
   "metadata": {
    "scrolled": false
   },
   "outputs": [
    {
     "name": "stdout",
     "output_type": "stream",
     "text": [
      "10\n",
      "10\n",
      "[0.0000e+00 0.0000e+00 9.0000e-05 1.0000e-05 6.0000e-05 4.0000e-05\n",
      " 1.0000e-05 5.0000e-05 5.0000e-04 9.9924e-01]\n"
     ]
    },
    {
     "data": {
      "image/png": "[encoded data removed]",
      "text/plain": [
       "<Figure size 468x216 with 2 Axes>"
      ]
     },
     "metadata": {},
     "output_type": "display_data"
    }
   ],
   "source": [
    "for n0 in range(10,11):\n",
    "    m = 10\n",
    "    print(n0)\n",
    "    k = 10\n",
    "    sig0 = 0.2\n",
    "    sigp = 0.3\n",
    "    sigr = 0.2\n",
    "    mub = 2\n",
    "    bT = mub + sigp*np.random.randn(n0)\n",
    "    X = 5*np.random.randn(k,m)\n",
    "    y = X[:,:n0].dot(bT) + sig0*np.random.randn(k)\n",
    "    nc = int(np.ceil(np.random.rand()*m))\n",
    "    bc = mub + sigp*np.random.randn(nc)\n",
    "    b0 = bc\n",
    "\n",
    "    norm_dist = scipy.stats.norm(0,sigr)\n",
    "    errors = []\n",
    "\n",
    "    N = 100000\n",
    "    model = np.zeros(N)\n",
    "    for it in range(N):\n",
    "        n_p = int(np.ceil(np.random.rand()*m))\n",
    "        model[it] = nc\n",
    "        if n_p >= nc:\n",
    "            U = sigr*np.random.randn(n_p)\n",
    "            bp = np.concatenate((bc, np.zeros(n_p-nc)), axis=0) + U  \n",
    "            hterm1 = np.prod(norm_dist.pdf(U))\n",
    "            hterm2 = np.prod(norm_dist.pdf(U[:nc]))\n",
    "        else:\n",
    "            U1 = sigr*np.random.randn(n_p)\n",
    "            U2 = bc[n_p+1:nc]\n",
    "            bp = bc[:n_p] + U1\n",
    "            U = np.concatenate((U1, U2), axis=0)\n",
    "            hterm1 = np.prod(norm_dist.pdf(U))\n",
    "            hterm2 = np.prod(norm_dist.pdf(U1))\n",
    "\n",
    "        E1 = PostF(y,X[:,:n_p],bp,sig0,mub,sigp)\n",
    "        E2 = PostF(y,X[:,:nc],bc,sig0,mub,sigp)\n",
    "        rat  = np.exp(-E1+E2)*hterm2/hterm1\n",
    "        uu = np.random.rand()\n",
    "        if uu < np.min([1,rat]):\n",
    "            bc = bp\n",
    "            nc = n_p\n",
    "        errors.append(np.linalg.norm(np.concatenate((bT,np.zeros(10-n0)), axis = 0)-np.concatenate((bc,np.zeros(10-nc)), axis = 0)))\n",
    "    print(nc)\n",
    "    \n",
    "    plt.figure(figsize=(6.5,3))\n",
    "    fig = plt.gcf()\n",
    "    fig.suptitle('n0={}'.format(n0), fontsize=14)\n",
    "#     plt.subplots_adjust(left=None, bottom=None, right=None, top=-0.1, wspace=None, hspace=None)\n",
    "    plt.subplot(1,2,1)\n",
    "    plt.title('Histogram of Model Order')\n",
    "    n, bins, patches = plt.hist(model, 10, facecolor='blue', alpha=0.5, range=(0.5,10.5))\n",
    "    print(n/N)\n",
    "    plt.subplot(1,2,2)\n",
    "    plt.plot(model)\n",
    "    plt.title('Evolution of Model Order')\n",
    "    plt.ylim(0.5,10.5)\n",
    "    plt.show()\n"
   ]
  },
  {
   "cell_type": "code",
   "execution_count": 104,
   "metadata": {
    "scrolled": true
   },
   "outputs": [
    {
     "name": "stdout",
     "output_type": "stream",
     "text": [
      "4\n",
      "[2.55766914 1.9613874  2.46794443 1.6665544 ]\n"
     ]
    }
   ],
   "source": [
    "m = 10\n",
    "n0 = 4 # int(np.ceil(np.random.rand()*m))\n",
    "print(n0)\n",
    "k = 10\n",
    "sig0 = 0.2\n",
    "sigp = 0.3\n",
    "sigr = 0.2\n",
    "\n",
    "mub = 2\n",
    "bT = mub + sigp*np.random.randn(n0)\n",
    "print(bT)\n",
    "X = 5*np.random.randn(k,m)\n",
    "# X[:,5] = X[:,2] + 0.1*np.random.rand(k)\n",
    "y = X[:,:n0].dot(bT) + sig0*np.random.randn(k)\n"
   ]
  },
  {
   "cell_type": "code",
   "execution_count": 105,
   "metadata": {
    "scrolled": false
   },
   "outputs": [
    {
     "name": "stdout",
     "output_type": "stream",
     "text": [
      "....................................................................................................42.04802465438843\n",
      "4 4\n",
      "[2.61863758 1.91930994 2.43794011 1.64585699]\n"
     ]
    },
    {
     "data": {
      "image/png": "[encoded data removed]",
      "text/plain": [
       "<Figure size 432x288 with 1 Axes>"
      ]
     },
     "metadata": {},
     "output_type": "display_data"
    },
    {
     "name": "stdout",
     "output_type": "stream",
     "text": [
      "[0.0000e+00 0.0000e+00 1.0000e-05 9.9222e-01 1.0000e-04 6.4000e-03\n",
      " 3.9000e-04 8.0000e-05 5.6000e-04 2.4000e-04]\n"
     ]
    },
    {
     "data": {
      "image/png": "[encoded data removed]",
      "text/plain": [
       "<Figure size 432x288 with 1 Axes>"
      ]
     },
     "metadata": {},
     "output_type": "display_data"
    },
    {
     "data": {
      "image/png": "[encoded data removed]",
      "text/plain": [
       "<Figure size 432x288 with 1 Axes>"
      ]
     },
     "metadata": {},
     "output_type": "display_data"
    },
    {
     "data": {
      "image/png": "[encoded data removed]",
      "text/plain": [
       "<Figure size 432x288 with 1 Axes>"
      ]
     },
     "metadata": {},
     "output_type": "display_data"
    }
   ],
   "source": [
    "nc = int(np.ceil(np.random.rand()*m))\n",
    "bc = mub + sigp*np.random.randn(nc)\n",
    "b0 = bc\n",
    "\n",
    "norm_dist = scipy.stats.norm(0,sigr)\n",
    "errors = []\n",
    "Rs = []\n",
    "N = 100000\n",
    "t1 = time.time()\n",
    "model = np.zeros(N)\n",
    "for it in range(N):\n",
    "    if it % 1000 == 0:\n",
    "        print('.',end='')\n",
    "    n_p = int(np.ceil(np.random.rand()*m))\n",
    "    model[it] = nc\n",
    "    if n_p >= nc:\n",
    "        U = sigr*np.random.randn(n_p)\n",
    "        bp = np.concatenate((bc, np.zeros(n_p-nc)), axis=0) + U  \n",
    "        hterm1 = np.prod(norm_dist.pdf(U))\n",
    "        hterm2 = np.prod(norm_dist.pdf(U[:nc]))\n",
    "    else:\n",
    "        U1 = sigr*np.random.randn(n_p)\n",
    "        U2 = bc[n_p+1:nc]\n",
    "        bp = bc[:n_p] + U1\n",
    "        U = np.concatenate((U1, U2), axis=0)\n",
    "        hterm1 = np.prod(norm_dist.pdf(U))\n",
    "        hterm2 = np.prod(norm_dist.pdf(U1))\n",
    "\n",
    "    E1 = PostF(y,X[:,:n_p],bp,sig0,mub,sigp)\n",
    "    E2 = PostF(y,X[:,:nc],bc,sig0,mub,sigp)\n",
    "    rat  = np.exp(-E1+E2)*hterm2/hterm1\n",
    "    uu = np.random.rand()\n",
    "    if uu < np.min([1,rat]):\n",
    "        bc = bp\n",
    "        nc = n_p\n",
    "    R = np.sum((y-X[:,:len(bc)].dot(bc))**2)\n",
    "    Rs.append(R)\n",
    "    errors.append(np.linalg.norm(np.concatenate((bT,np.zeros(10-n0)), axis = 0)-np.concatenate((bc,np.zeros(10-nc)), axis = 0)))\n",
    "print(time.time()-t1)\n",
    "print(len(bc), nc)\n",
    "print(bc)\n",
    "\n",
    "num_bins = 10\n",
    "plt.title('Histogram of Model Order')\n",
    "n, bins, patches = plt.hist(model, num_bins, facecolor='blue', alpha=0.5, range=(0.5,10.5))\n",
    "plt.show()\n",
    "print(n/N)\n",
    "plt.plot(model)\n",
    "plt.title('Evolution of Model Order')\n",
    "plt.ylim(0.5,10.5)\n",
    "plt.show()\n",
    "\n",
    "plt.title('Error between b_true and b')\n",
    "plt.ylabel('$|bt-b|^2$')\n",
    "plt.plot(errors)\n",
    "plt.show()\n",
    "\n",
    "plt.title('Residual of prediction')\n",
    "plt.plot(Rs)\n",
    "plt.show()"
   ]
  },
  {
   "cell_type": "code",
   "execution_count": 65,
   "metadata": {},
   "outputs": [
    {
     "data": {
      "text/plain": [
       "[0.04050280511716853,\n",
       " 0.04050280511716853,\n",
       " 0.04050280511716853,\n",
       " 0.04050280511716853]"
      ]
     },
     "execution_count": 65,
     "metadata": {},
     "output_type": "execute_result"
    }
   ],
   "source": [
    "errors[-4:]"
   ]
  },
  {
   "cell_type": "code",
   "execution_count": 66,
   "metadata": {},
   "outputs": [
    {
     "data": {
      "text/plain": [
       "[0.34198812815288226,\n",
       " 0.34198812815288226,\n",
       " 0.34198812815288226,\n",
       " 0.34198812815288226]"
      ]
     },
     "execution_count": 66,
     "metadata": {},
     "output_type": "execute_result"
    }
   ],
   "source": [
    "Rs[-4:]"
   ]
  },
  {
   "cell_type": "code",
   "execution_count": 67,
   "metadata": {},
   "outputs": [
    {
     "data": {
      "text/plain": [
       "array([1.5380507 , 2.69473882, 1.93637278])"
      ]
     },
     "execution_count": 67,
     "metadata": {},
     "output_type": "execute_result"
    }
   ],
   "source": [
    "n = int(nc)-1\n",
    "A = np.zeros((n,n))\n",
    "B = np.zeros(n)\n",
    "for i in range(n):\n",
    "    for j in range(n):\n",
    "        A[i,j] = X[:,i].dot(X[:,j])\n",
    "    B[i] = y.dot(X[:,i])\n",
    "b_ls = np.linalg.solve(A, B)\n",
    "b_ls"
   ]
  },
  {
   "cell_type": "code",
   "execution_count": 68,
   "metadata": {},
   "outputs": [
    {
     "data": {
      "text/plain": [
       "217.5412113520997"
      ]
     },
     "execution_count": 68,
     "metadata": {},
     "output_type": "execute_result"
    }
   ],
   "source": [
    "R_ls = np.sum((y-X[:,:n].dot(b_ls))**2)\n",
    "R_ls"
   ]
  },
  {
   "cell_type": "code",
   "execution_count": 80,
   "metadata": {},
   "outputs": [
    {
     "data": {
      "text/plain": [
       "array([2.09356795, 1.9036839 ])"
      ]
     },
     "execution_count": 80,
     "metadata": {},
     "output_type": "execute_result"
    }
   ],
   "source": [
    "n = int(nc)\n",
    "A = np.zeros((n,n))\n",
    "B = np.zeros(n)\n",
    "for i in range(n):\n",
    "    for j in range(n):\n",
    "        A[i,j] = X[:,i].dot(X[:,j])\n",
    "    B[i] = y.dot(X[:,i])\n",
    "b_ls = np.linalg.solve(A, B)\n",
    "b_ls"
   ]
  },
  {
   "cell_type": "code",
   "execution_count": 81,
   "metadata": {},
   "outputs": [
    {
     "data": {
      "text/plain": [
       "0.17120251781529394"
      ]
     },
     "execution_count": 81,
     "metadata": {},
     "output_type": "execute_result"
    }
   ],
   "source": [
    "R_ls = np.sum((y-X[:,:n].dot(b_ls))**2)\n",
    "R_ls"
   ]
  },
  {
   "cell_type": "code",
   "execution_count": 71,
   "metadata": {},
   "outputs": [
    {
     "data": {
      "text/plain": [
       "array([2.26841151, 2.29573783, 1.79479387, 1.59718134, 0.00451598])"
      ]
     },
     "execution_count": 71,
     "metadata": {},
     "output_type": "execute_result"
    }
   ],
   "source": [
    "n = int(nc)+1\n",
    "A = np.zeros((n,n))\n",
    "B = np.zeros(n)\n",
    "for i in range(n):\n",
    "    for j in range(n):\n",
    "        A[i,j] = X[:,i].dot(X[:,j])\n",
    "    B[i] = y.dot(X[:,i])\n",
    "b_ls = np.linalg.solve(A, B)\n",
    "b_ls"
   ]
  },
  {
   "cell_type": "code",
   "execution_count": 72,
   "metadata": {
    "scrolled": true
   },
   "outputs": [
    {
     "data": {
      "text/plain": [
       "0.1019403721494842"
      ]
     },
     "execution_count": 72,
     "metadata": {},
     "output_type": "execute_result"
    }
   ],
   "source": [
    "R_ls = np.sum((y-X[:,:n].dot(b_ls))**2)\n",
    "R_ls"
   ]
  },
  {
   "cell_type": "code",
   "execution_count": 73,
   "metadata": {},
   "outputs": [
    {
     "data": {
      "text/plain": [
       "0.34198812815288226"
      ]
     },
     "execution_count": 73,
     "metadata": {},
     "output_type": "execute_result"
    }
   ],
   "source": [
    "R = np.sum((y-X[:,:len(bc)].dot(bc))**2)\n",
    "R"
   ]
  },
  {
   "cell_type": "code",
   "execution_count": 101,
   "metadata": {},
   "outputs": [
    {
     "data": {
      "image/png": "[encoded data removed]",
      "text/plain": [
       "<Figure size 432x288 with 1 Axes>"
      ]
     },
     "metadata": {},
     "output_type": "display_data"
    }
   ],
   "source": [
    "from mpl_toolkits.mplot3d import Axes3D\n",
    "\n",
    "xx1 = np.linspace(-6,10,100)\n",
    "xx2 = np.linspace(-6,10,100)\n",
    "X1, X2 = np.meshgrid(xx1,xx2)\n",
    "yy = b_ls[0]*X1 + b_ls[1]*X2\n",
    "\n",
    "yy2 = bc[0]*X1 + bc[1]*X2\n",
    "\n",
    "\n",
    "fig = plt.figure()\n",
    "ax = fig.add_subplot(111, projection='3d')\n",
    "surf1 = ax.plot_surface(X1, X2, yy2, alpha = 0.4, label = 'RJMCMC',color = 'green')\n",
    "surf2 = ax.plot_surface(X1, X2, yy, alpha = 0.4, label = 'least square',color = 'orange')\n",
    "surf1._facecolors2d=surf1._facecolors3d\n",
    "surf1._edgecolors2d=surf1._edgecolors3d\n",
    "surf2._facecolors2d=surf2._facecolors3d\n",
    "surf2._edgecolors2d=surf2._edgecolors3d\n",
    "ax.scatter(X[:,0],X[:,1],y,c='r')\n",
    "ax.legend()\n",
    "plt.show()"
   ]
  },
  {
   "cell_type": "code",
   "execution_count": null,
   "metadata": {},
   "outputs": [],
   "source": []
  },
  {
   "cell_type": "code",
   "execution_count": 160,
   "metadata": {},
   "outputs": [
    {
     "name": "stdout",
     "output_type": "stream",
     "text": [
      "[0.4444722  1.03547651 0.35780618 1.45288631 0.32169047 0.79815682\n",
      " 1.10370814 0.32402922 1.35800916 1.16930682]\n"
     ]
    }
   ],
   "source": [
    "m = 10\n",
    "# n0 =int(np.random.rand()*m)\n",
    "k = 50\n",
    "sig0 = 0.2\n",
    "sigp = 1.5\n",
    "sigr = 0.2\n",
    "\n",
    "mub = 0.\n",
    "bT = mub + sigp*np.random.rand(m)\n",
    "print(bT)\n",
    "X = 5*np.random.rand(k,m)\n",
    "y = X.dot(bT) + sig0*np.random.rand(k)"
   ]
  },
  {
   "cell_type": "code",
   "execution_count": 161,
   "metadata": {},
   "outputs": [
    {
     "name": "stdout",
     "output_type": "stream",
     "text": [
      "....................................................................................................7\n",
      "[1.19574361 1.05628444 2.57297924 1.13591998 0.80066299 0.97745224\n",
      " 0.97001587]\n"
     ]
    },
    {
     "data": {
      "image/png": "[encoded data removed]",
      "text/plain": [
       "<Figure size 432x288 with 1 Axes>"
      ]
     },
     "metadata": {},
     "output_type": "display_data"
    },
    {
     "name": "stdout",
     "output_type": "stream",
     "text": [
      "[0.00e+00 0.00e+00 0.00e+00 1.00e-04 0.00e+00 0.00e+00 2.00e-04 9.91e-01\n",
      " 1.00e-04 8.60e-03]\n"
     ]
    },
    {
     "data": {
      "image/png": "[encoded data removed]",
      "text/plain": [
       "<Figure size 432x288 with 1 Axes>"
      ]
     },
     "metadata": {},
     "output_type": "display_data"
    }
   ],
   "source": [
    "nc = int(np.ceil(np.random.rand()*m))\n",
    "bc = mub + sigp*np.random.rand(nc)\n",
    "b0 = bc\n",
    "\n",
    "N = 10000\n",
    "model = np.zeros(N)\n",
    "for it in range(N):\n",
    "    if it % 100 == 0:\n",
    "        print('.',end='')\n",
    "    n_p = int(np.ceil(np.random.rand()*m))\n",
    "    model[it] = nc\n",
    "    if n_p >= nc:\n",
    "        U = sigr*np.random.rand(n_p)\n",
    "        bp = np.concatenate((bc, np.zeros(n_p-nc)), axis=0) + U  \n",
    "        hterm1 = np.prod(scipy.stats.norm(0,sigr).pdf(U))\n",
    "        hterm2 = np.prod(scipy.stats.norm(0,sigr).pdf(U[:nc]))\n",
    "    else:\n",
    "        U1 = sigr*np.random.rand(n_p)\n",
    "        U2 = bc[n_p:nc]\n",
    "        bp = bc[:n_p] + U1\n",
    "        U = np.concatenate((U1, U2), axis=0)\n",
    "        hterm1 = np.prod(scipy.stats.norm(0,sigr).pdf(U))\n",
    "        hterm2 = np.prod(scipy.stats.norm(0,sigr).pdf(U1))\n",
    "\n",
    "    E1 = PostF(y,X[:,:n_p],bp,sig0,mub,sigp)\n",
    "    E2 = PostF(y,X[:,:nc],bc,sig0,mub,sigp)\n",
    "    rat  = np.exp(-E1+E2)*hterm2/hterm1\n",
    "    uu = np.random.rand()\n",
    "    if uu < np.min([1,rat]):\n",
    "        bc = bp\n",
    "        nc = n_p\n",
    "print(len(bc))\n",
    "print(bc)\n",
    "\n",
    "num_bins = 10\n",
    "n, bins, patches = plt.hist(model, num_bins, facecolor='blue', alpha=0.5, range=(0,10))\n",
    "plt.show()\n",
    "print(n/N)\n",
    "plt.plot(model)\n",
    "plt.ylim(-0.5,10.5)\n",
    "plt.show()"
   ]
  },
  {
   "cell_type": "code",
   "execution_count": 162,
   "metadata": {},
   "outputs": [
    {
     "data": {
      "text/plain": [
       "589.7241824527736"
      ]
     },
     "execution_count": 162,
     "metadata": {},
     "output_type": "execute_result"
    }
   ],
   "source": [
    "R = np.sum((y-X[:,:len(bc)].dot(bc))**2)\n",
    "R"
   ]
  },
  {
   "cell_type": "code",
   "execution_count": 175,
   "metadata": {},
   "outputs": [
    {
     "data": {
      "text/plain": [
       "array([1.13272665, 1.25120685, 1.28798705, 1.62989517, 0.45086562,\n",
       "       1.16339899, 1.53908764])"
      ]
     },
     "execution_count": 175,
     "metadata": {},
     "output_type": "execute_result"
    }
   ],
   "source": [
    "n = int(nc)\n",
    "A = np.zeros((n,n))\n",
    "B = np.zeros(n)\n",
    "for i in range(n):\n",
    "    for j in range(n):\n",
    "        A[i,j] = X[:,i].dot(X[:,j])\n",
    "    B[i] = y.dot(X[:,i])\n",
    "b_ls = np.linalg.solve(A, B)\n",
    "b_ls"
   ]
  },
  {
   "cell_type": "code",
   "execution_count": 176,
   "metadata": {},
   "outputs": [
    {
     "data": {
      "text/plain": [
       "331.4553895781812"
      ]
     },
     "execution_count": 176,
     "metadata": {},
     "output_type": "execute_result"
    }
   ],
   "source": [
    "R_ls = np.sum((y-X[:,:n].dot(b_ls))**2)\n",
    "R_ls"
   ]
  },
  {
   "cell_type": "code",
   "execution_count": null,
   "metadata": {},
   "outputs": [],
   "source": []
  }
 ],
 "metadata": {
  "kernelspec": {
   "display_name": "Python 3",
   "language": "python",
   "name": "python3"
  },
  "language_info": {
   "codemirror_mode": {
    "name": "ipython",
    "version": 3
   },
   "file_extension": ".py",
   "mimetype": "text/x-python",
   "name": "python",
   "nbconvert_exporter": "python",
   "pygments_lexer": "ipython3",
   "version": "3.6.7"
  }
 },
 "nbformat": 4,
 "nbformat_minor": 2
}
